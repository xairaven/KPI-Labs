{
 "cells": [
  {
   "cell_type": "code",
   "execution_count": null,
   "id": "initial_id",
   "metadata": {
    "is_executing": true,
    "ExecuteTime": {
     "start_time": "2024-03-18T08:28:51.332514Z"
    }
   },
   "outputs": [],
   "source": [
    "from sklearn.datasets import load_wine\n",
    "from scipy.cluster.vq import kmeans2, whiten\n",
    "\n",
    "[data, target] = load_wine(return_X_y=True)\n",
    "whitened = whiten(data)\n",
    "\n",
    "start = [whitened[0],\n",
    "         whitened[int(len(whitened)/2)],\n",
    "         whitened[len(whitened)-1]]\n",
    "[centroid, label] = kmeans2(whitened, start)\n",
    "\n",
    "errors = 0.0\n",
    "for i in range(len(label)):\n",
    "    if target[i] != label[i]:\n",
    "        errors += 1\n",
    "        acc = ((len(data) - errors)\n",
    "               /len(data))\n",
    "        print (acc)"
   ]
  },
  {
   "cell_type": "code",
   "execution_count": 3,
   "id": "cee19ca55595dcff",
   "metadata": {
    "ExecuteTime": {
     "end_time": "2024-02-23T17:19:33.225212Z",
     "start_time": "2024-02-23T17:19:32.585281300Z"
    }
   },
   "outputs": [
    {
     "name": "stdout",
     "output_type": "stream",
     "text": [
      "[2]\n"
     ]
    }
   ],
   "source": [
    "from sklearn.datasets import load_wine\n",
    "from sklearn import tree\n",
    "\n",
    "[data, target] = load_wine(return_X_y=True)\n",
    "\n",
    "data_train = data[0:len(data)-2]\n",
    "target_train = target[0:len(data)-2]\n",
    "\n",
    "dtc = tree.DecisionTreeClassifier()\n",
    "dtc = dtc.fit(data_train,\n",
    "              target_train)\n",
    "print (dtc.predict(\n",
    "    data[len(data)-1]\n",
    "    .reshape(1,-1)))"
   ]
  },
  {
   "cell_type": "code",
   "execution_count": 8,
   "id": "61a7852a33a23bc6",
   "metadata": {
    "ExecuteTime": {
     "end_time": "2024-02-23T17:31:57.104256400Z",
     "start_time": "2024-02-23T17:31:57.092335400Z"
    }
   },
   "outputs": [
    {
     "name": "stdout",
     "output_type": "stream",
     "text": [
      "[2]\n"
     ]
    }
   ],
   "source": [
    "from sklearn.datasets import load_wine\n",
    "from sklearn import svm\n",
    "\n",
    "[data, target] = load_wine(return_X_y=True)\n",
    "data_train = data[0:len(data)-2]\n",
    "target_train = target[0:len(target)-2]\n",
    "\n",
    "# clf = svm.LinearSVC()\n",
    "clf = svm.LinearSVC(dual=\"auto\")\n",
    "clf.fit(data_train, target_train)\n",
    "print (clf.predict(\n",
    "    data[len(data)-1]\n",
    "    .reshape(1,-1)))"
   ]
  },
  {
   "cell_type": "code",
   "execution_count": null,
   "id": "691c994573072e78",
   "metadata": {},
   "outputs": [],
   "source": []
  }
 ],
 "metadata": {
  "kernelspec": {
   "display_name": "Python 3 (ipykernel)",
   "language": "python",
   "name": "python3"
  },
  "language_info": {
   "codemirror_mode": {
    "name": "ipython",
    "version": 3
   },
   "file_extension": ".py",
   "mimetype": "text/x-python",
   "name": "python",
   "nbconvert_exporter": "python",
   "pygments_lexer": "ipython3",
   "version": "3.11.5"
  }
 },
 "nbformat": 4,
 "nbformat_minor": 5
}
