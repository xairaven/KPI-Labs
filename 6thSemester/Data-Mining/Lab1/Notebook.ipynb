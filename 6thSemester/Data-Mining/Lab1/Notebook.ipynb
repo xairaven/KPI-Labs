{
 "cells": [
  {
   "cell_type": "code",
   "execution_count": 1,
   "id": "949eab558f56ea08",
   "metadata": {
    "ExecuteTime": {
     "end_time": "2024-02-08T18:34:36.434776400Z",
     "start_time": "2024-02-08T18:34:36.423512800Z"
    },
    "collapsed": false
   },
   "outputs": [
    {
     "name": "stdout",
     "output_type": "stream",
     "text": [
      "G: 7.95\n",
      "K: 7.57\n",
      "N: 1.83\n",
      "P: 8.78\n",
      "Q: 5.25\n",
      "R: 6.12\n",
      "A: 3.00\n"
     ]
    }
   ],
   "source": [
    "import sqlite3\n",
    "\n",
    "db_filename = 'data/cereals-1.db'\n",
    "\n",
    "conn = sqlite3.connect(db_filename)\n",
    "c = conn.cursor()\n",
    "\n",
    "c.execute('''\n",
    "    SELECT DISTINCT Manufacturer FROM cereals\n",
    "''')\n",
    "\n",
    "for manufacturer in c.fetchall():\n",
    "    c.execute('''SELECT avg(Sugars)\n",
    "        FROM cereals WHERE\n",
    "        Manufacturer='{0}'\n",
    "        '''.format(manufacturer[0]))\n",
    "\n",
    "    print(\"{0}: {1:.2f}\"\n",
    "          .format(manufacturer[0], c.fetchall()[0][0]))\n"
   ]
  },
  {
   "cell_type": "code",
   "execution_count": null,
   "id": "921bc02142d2f3d7",
   "metadata": {
    "collapsed": false
   },
   "outputs": [],
   "source": []
  }
 ],
 "metadata": {
  "kernelspec": {
   "display_name": "Python 3",
   "language": "python",
   "name": "python3"
  },
  "language_info": {
   "codemirror_mode": {
    "name": "ipython",
    "version": 2
   },
   "file_extension": ".py",
   "mimetype": "text/x-python",
   "name": "python",
   "nbconvert_exporter": "python",
   "pygments_lexer": "ipython2",
   "version": "2.7.6"
  }
 },
 "nbformat": 4,
 "nbformat_minor": 5
}
