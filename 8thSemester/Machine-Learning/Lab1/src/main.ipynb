{
 "cells": [
  {
   "metadata": {},
   "cell_type": "markdown",
   "source": "1. Відкрити та зчитати файл з даними.",
   "id": "4b565523a021d39e"
  },
  {
   "cell_type": "code",
   "id": "initial_id",
   "metadata": {
    "collapsed": true,
    "ExecuteTime": {
     "end_time": "2025-02-20T16:59:54.137546Z",
     "start_time": "2025-02-20T16:59:52.284323Z"
    }
   },
   "source": [
    "import pandas as pd\n",
    "df = pd.read_csv(\"data/Input_Lab-1_Vehicle_Sales.csv\")"
   ],
   "outputs": [],
   "execution_count": 1
  },
  {
   "metadata": {},
   "cell_type": "markdown",
   "source": "2. Визначити та вивести кількість записів та кількість полів у кожному записі.",
   "id": "ea957cf5ff76143c"
  },
  {
   "metadata": {
    "ExecuteTime": {
     "end_time": "2025-02-20T16:59:54.159654Z",
     "start_time": "2025-02-20T16:59:54.154880Z"
    }
   },
   "cell_type": "code",
   "source": [
    "num_records = df.shape[0]\n",
    "num_fields = df.shape[1]\n",
    "print(f\"Кількість записів (рядків): {num_records}\")\n",
    "print(f\"Кількість полів (стовпців): {num_fields}\")"
   ],
   "id": "dd3df950d331def0",
   "outputs": [
    {
     "name": "stdout",
     "output_type": "stream",
     "text": [
      "Кількість записів (рядків): 186\n",
      "Кількість полів (стовпців): 6\n"
     ]
    }
   ],
   "execution_count": 2
  },
  {
   "metadata": {},
   "cell_type": "markdown",
   "source": "3. Вивести К+7 перших та 5К-3 останніх записів.",
   "id": "be645f0feb5b37a"
  },
  {
   "metadata": {
    "ExecuteTime": {
     "end_time": "2025-02-20T16:59:54.734909Z",
     "start_time": "2025-02-20T16:59:54.708268Z"
    }
   },
   "cell_type": "code",
   "source": [
    "K = 2\n",
    "first_n = K + 7\n",
    "last_n = 5 * K - 3\n",
    "print(f\"Перші {first_n} записів:\")\n",
    "display(df.head(first_n))\n",
    "print(f\"Останні {last_n} записів:\")\n",
    "display(df.tail(last_n))"
   ],
   "id": "c01dbe3e40b9c3a9",
   "outputs": [
    {
     "name": "stdout",
     "output_type": "stream",
     "text": [
      "Перші 9 записів:\n"
     ]
    },
    {
     "data": {
      "text/plain": [
       "   Year Month    New   Used Total Sales New Total Sales Used\n",
       "0  2002   JAN  31106  49927      $755015820       $386481929\n",
       "1  2002   FEB  27520  50982      $664454223       $361353242\n",
       "2  2002   MAR  34225  58794      $805666244       $419385387\n",
       "3  2002   APR  36452  59817      $846368297       $433061150\n",
       "4  2002   MAY  37359  60577      $855005784       $442569410\n",
       "5  2002   JUN  36348  55415      $830251613       $414731166\n",
       "6  2002   JUL  30367  55235      $700530891       $384673023\n",
       "7  2002   AUG  38965  60310      $934484212       $455453720\n",
       "8  2002   SEP  39740  55485      $950502055       $432112270"
      ],
      "text/html": [
       "<div>\n",
       "<style scoped>\n",
       "    .dataframe tbody tr th:only-of-type {\n",
       "        vertical-align: middle;\n",
       "    }\n",
       "\n",
       "    .dataframe tbody tr th {\n",
       "        vertical-align: top;\n",
       "    }\n",
       "\n",
       "    .dataframe thead th {\n",
       "        text-align: right;\n",
       "    }\n",
       "</style>\n",
       "<table border=\"1\" class=\"dataframe\">\n",
       "  <thead>\n",
       "    <tr style=\"text-align: right;\">\n",
       "      <th></th>\n",
       "      <th>Year</th>\n",
       "      <th>Month</th>\n",
       "      <th>New</th>\n",
       "      <th>Used</th>\n",
       "      <th>Total Sales New</th>\n",
       "      <th>Total Sales Used</th>\n",
       "    </tr>\n",
       "  </thead>\n",
       "  <tbody>\n",
       "    <tr>\n",
       "      <th>0</th>\n",
       "      <td>2002</td>\n",
       "      <td>JAN</td>\n",
       "      <td>31106</td>\n",
       "      <td>49927</td>\n",
       "      <td>$755015820</td>\n",
       "      <td>$386481929</td>\n",
       "    </tr>\n",
       "    <tr>\n",
       "      <th>1</th>\n",
       "      <td>2002</td>\n",
       "      <td>FEB</td>\n",
       "      <td>27520</td>\n",
       "      <td>50982</td>\n",
       "      <td>$664454223</td>\n",
       "      <td>$361353242</td>\n",
       "    </tr>\n",
       "    <tr>\n",
       "      <th>2</th>\n",
       "      <td>2002</td>\n",
       "      <td>MAR</td>\n",
       "      <td>34225</td>\n",
       "      <td>58794</td>\n",
       "      <td>$805666244</td>\n",
       "      <td>$419385387</td>\n",
       "    </tr>\n",
       "    <tr>\n",
       "      <th>3</th>\n",
       "      <td>2002</td>\n",
       "      <td>APR</td>\n",
       "      <td>36452</td>\n",
       "      <td>59817</td>\n",
       "      <td>$846368297</td>\n",
       "      <td>$433061150</td>\n",
       "    </tr>\n",
       "    <tr>\n",
       "      <th>4</th>\n",
       "      <td>2002</td>\n",
       "      <td>MAY</td>\n",
       "      <td>37359</td>\n",
       "      <td>60577</td>\n",
       "      <td>$855005784</td>\n",
       "      <td>$442569410</td>\n",
       "    </tr>\n",
       "    <tr>\n",
       "      <th>5</th>\n",
       "      <td>2002</td>\n",
       "      <td>JUN</td>\n",
       "      <td>36348</td>\n",
       "      <td>55415</td>\n",
       "      <td>$830251613</td>\n",
       "      <td>$414731166</td>\n",
       "    </tr>\n",
       "    <tr>\n",
       "      <th>6</th>\n",
       "      <td>2002</td>\n",
       "      <td>JUL</td>\n",
       "      <td>30367</td>\n",
       "      <td>55235</td>\n",
       "      <td>$700530891</td>\n",
       "      <td>$384673023</td>\n",
       "    </tr>\n",
       "    <tr>\n",
       "      <th>7</th>\n",
       "      <td>2002</td>\n",
       "      <td>AUG</td>\n",
       "      <td>38965</td>\n",
       "      <td>60310</td>\n",
       "      <td>$934484212</td>\n",
       "      <td>$455453720</td>\n",
       "    </tr>\n",
       "    <tr>\n",
       "      <th>8</th>\n",
       "      <td>2002</td>\n",
       "      <td>SEP</td>\n",
       "      <td>39740</td>\n",
       "      <td>55485</td>\n",
       "      <td>$950502055</td>\n",
       "      <td>$432112270</td>\n",
       "    </tr>\n",
       "  </tbody>\n",
       "</table>\n",
       "</div>"
      ]
     },
     "metadata": {},
     "output_type": "display_data"
    },
    {
     "name": "stdout",
     "output_type": "stream",
     "text": [
      "Останні 7 записів:\n"
     ]
    },
    {
     "data": {
      "text/plain": [
       "     Year Month    New   Used Total Sales New Total Sales Used\n",
       "179  2016   DEC  26205  56234      $926735097       $655654762\n",
       "180  2017   JAN  28827  56583     $1000285431       $674078790\n",
       "181  2017   FEB  22413  55989      $776222008       $592255229\n",
       "182  2017   MAR  27838  72717      $926703144       $744746293\n",
       "183  2017   APR  26135  62740      $867722291       $654981615\n",
       "184  2017   MAY  28931  68296      $937804113       $718689038\n",
       "185  2017   JUN  31835  67827     $1019153457       $720739448"
      ],
      "text/html": [
       "<div>\n",
       "<style scoped>\n",
       "    .dataframe tbody tr th:only-of-type {\n",
       "        vertical-align: middle;\n",
       "    }\n",
       "\n",
       "    .dataframe tbody tr th {\n",
       "        vertical-align: top;\n",
       "    }\n",
       "\n",
       "    .dataframe thead th {\n",
       "        text-align: right;\n",
       "    }\n",
       "</style>\n",
       "<table border=\"1\" class=\"dataframe\">\n",
       "  <thead>\n",
       "    <tr style=\"text-align: right;\">\n",
       "      <th></th>\n",
       "      <th>Year</th>\n",
       "      <th>Month</th>\n",
       "      <th>New</th>\n",
       "      <th>Used</th>\n",
       "      <th>Total Sales New</th>\n",
       "      <th>Total Sales Used</th>\n",
       "    </tr>\n",
       "  </thead>\n",
       "  <tbody>\n",
       "    <tr>\n",
       "      <th>179</th>\n",
       "      <td>2016</td>\n",
       "      <td>DEC</td>\n",
       "      <td>26205</td>\n",
       "      <td>56234</td>\n",
       "      <td>$926735097</td>\n",
       "      <td>$655654762</td>\n",
       "    </tr>\n",
       "    <tr>\n",
       "      <th>180</th>\n",
       "      <td>2017</td>\n",
       "      <td>JAN</td>\n",
       "      <td>28827</td>\n",
       "      <td>56583</td>\n",
       "      <td>$1000285431</td>\n",
       "      <td>$674078790</td>\n",
       "    </tr>\n",
       "    <tr>\n",
       "      <th>181</th>\n",
       "      <td>2017</td>\n",
       "      <td>FEB</td>\n",
       "      <td>22413</td>\n",
       "      <td>55989</td>\n",
       "      <td>$776222008</td>\n",
       "      <td>$592255229</td>\n",
       "    </tr>\n",
       "    <tr>\n",
       "      <th>182</th>\n",
       "      <td>2017</td>\n",
       "      <td>MAR</td>\n",
       "      <td>27838</td>\n",
       "      <td>72717</td>\n",
       "      <td>$926703144</td>\n",
       "      <td>$744746293</td>\n",
       "    </tr>\n",
       "    <tr>\n",
       "      <th>183</th>\n",
       "      <td>2017</td>\n",
       "      <td>APR</td>\n",
       "      <td>26135</td>\n",
       "      <td>62740</td>\n",
       "      <td>$867722291</td>\n",
       "      <td>$654981615</td>\n",
       "    </tr>\n",
       "    <tr>\n",
       "      <th>184</th>\n",
       "      <td>2017</td>\n",
       "      <td>MAY</td>\n",
       "      <td>28931</td>\n",
       "      <td>68296</td>\n",
       "      <td>$937804113</td>\n",
       "      <td>$718689038</td>\n",
       "    </tr>\n",
       "    <tr>\n",
       "      <th>185</th>\n",
       "      <td>2017</td>\n",
       "      <td>JUN</td>\n",
       "      <td>31835</td>\n",
       "      <td>67827</td>\n",
       "      <td>$1019153457</td>\n",
       "      <td>$720739448</td>\n",
       "    </tr>\n",
       "  </tbody>\n",
       "</table>\n",
       "</div>"
      ]
     },
     "metadata": {},
     "output_type": "display_data"
    }
   ],
   "execution_count": 3
  },
  {
   "metadata": {},
   "cell_type": "markdown",
   "source": "4. Визначити та вивести тип полів кожного запису.",
   "id": "d90f94cd4711168b"
  },
  {
   "metadata": {
    "ExecuteTime": {
     "end_time": "2025-02-20T16:59:54.786943Z",
     "start_time": "2025-02-20T16:59:54.781831Z"
    }
   },
   "cell_type": "code",
   "source": "print(df.dtypes)",
   "id": "bfc21dbb6c320393",
   "outputs": [
    {
     "name": "stdout",
     "output_type": "stream",
     "text": [
      "Year                 int64\n",
      "Month               object\n",
      "New                  int64\n",
      "Used                 int64\n",
      "Total Sales New     object\n",
      "Total Sales Used    object\n",
      "dtype: object\n"
     ]
    }
   ],
   "execution_count": 4
  },
  {
   "metadata": {},
   "cell_type": "markdown",
   "source": "5. Привести поля, що відповідають обсягам продаж, до числового вигляду (показати, що це виконано).",
   "id": "fa7c8ac6b0969ad4"
  },
  {
   "metadata": {
    "ExecuteTime": {
     "end_time": "2025-02-20T16:59:55.003415Z",
     "start_time": "2025-02-20T16:59:54.995681Z"
    }
   },
   "cell_type": "code",
   "source": [
    "df[\"Total Sales New\"] = df[\"Total Sales New\"].str.replace(\"$\", \"\").astype(int)\n",
    "df[\"Total Sales Used\"] = df[\"Total Sales Used\"].str.replace(\"$\", \"\").astype(int)\n",
    "print(\"\\nТипи даних після перетворення:\")\n",
    "print(df.dtypes)\n",
    "print(\"\\nПерші 5 записів після перетворення:\")\n",
    "print(df.head())"
   ],
   "id": "29119535393080c2",
   "outputs": [
    {
     "name": "stdout",
     "output_type": "stream",
     "text": [
      "\n",
      "Типи даних після перетворення:\n",
      "Year                 int64\n",
      "Month               object\n",
      "New                  int64\n",
      "Used                 int64\n",
      "Total Sales New      int64\n",
      "Total Sales Used     int64\n",
      "dtype: object\n",
      "\n",
      "Перші 5 записів після перетворення:\n",
      "   Year Month    New   Used  Total Sales New  Total Sales Used\n",
      "0  2002   JAN  31106  49927        755015820         386481929\n",
      "1  2002   FEB  27520  50982        664454223         361353242\n",
      "2  2002   MAR  34225  58794        805666244         419385387\n",
      "3  2002   APR  36452  59817        846368297         433061150\n",
      "4  2002   MAY  37359  60577        855005784         442569410\n"
     ]
    }
   ],
   "execution_count": 5
  },
  {
   "metadata": {},
   "cell_type": "markdown",
   "source": "6a. Ввести нові поля: Сумарний обсяг продаж автомобілів (нових та б/в) у кожний період;",
   "id": "10a63dc396362504"
  },
  {
   "metadata": {
    "ExecuteTime": {
     "end_time": "2025-02-20T16:59:55.186202Z",
     "start_time": "2025-02-20T16:59:55.178440Z"
    }
   },
   "cell_type": "code",
   "source": [
    "df[\"Sum\"] = df[\"New\"] + df[\"Used\"]\n",
    "print(\"\\nПерші 5 записів після перетворення:\")\n",
    "display(df.head())"
   ],
   "id": "11fbeeb5f7b36cc0",
   "outputs": [
    {
     "name": "stdout",
     "output_type": "stream",
     "text": [
      "\n",
      "Перші 5 записів після перетворення:\n"
     ]
    },
    {
     "data": {
      "text/plain": [
       "   Year Month    New   Used  Total Sales New  Total Sales Used    Sum\n",
       "0  2002   JAN  31106  49927        755015820         386481929  81033\n",
       "1  2002   FEB  27520  50982        664454223         361353242  78502\n",
       "2  2002   MAR  34225  58794        805666244         419385387  93019\n",
       "3  2002   APR  36452  59817        846368297         433061150  96269\n",
       "4  2002   MAY  37359  60577        855005784         442569410  97936"
      ],
      "text/html": [
       "<div>\n",
       "<style scoped>\n",
       "    .dataframe tbody tr th:only-of-type {\n",
       "        vertical-align: middle;\n",
       "    }\n",
       "\n",
       "    .dataframe tbody tr th {\n",
       "        vertical-align: top;\n",
       "    }\n",
       "\n",
       "    .dataframe thead th {\n",
       "        text-align: right;\n",
       "    }\n",
       "</style>\n",
       "<table border=\"1\" class=\"dataframe\">\n",
       "  <thead>\n",
       "    <tr style=\"text-align: right;\">\n",
       "      <th></th>\n",
       "      <th>Year</th>\n",
       "      <th>Month</th>\n",
       "      <th>New</th>\n",
       "      <th>Used</th>\n",
       "      <th>Total Sales New</th>\n",
       "      <th>Total Sales Used</th>\n",
       "      <th>Sum</th>\n",
       "    </tr>\n",
       "  </thead>\n",
       "  <tbody>\n",
       "    <tr>\n",
       "      <th>0</th>\n",
       "      <td>2002</td>\n",
       "      <td>JAN</td>\n",
       "      <td>31106</td>\n",
       "      <td>49927</td>\n",
       "      <td>755015820</td>\n",
       "      <td>386481929</td>\n",
       "      <td>81033</td>\n",
       "    </tr>\n",
       "    <tr>\n",
       "      <th>1</th>\n",
       "      <td>2002</td>\n",
       "      <td>FEB</td>\n",
       "      <td>27520</td>\n",
       "      <td>50982</td>\n",
       "      <td>664454223</td>\n",
       "      <td>361353242</td>\n",
       "      <td>78502</td>\n",
       "    </tr>\n",
       "    <tr>\n",
       "      <th>2</th>\n",
       "      <td>2002</td>\n",
       "      <td>MAR</td>\n",
       "      <td>34225</td>\n",
       "      <td>58794</td>\n",
       "      <td>805666244</td>\n",
       "      <td>419385387</td>\n",
       "      <td>93019</td>\n",
       "    </tr>\n",
       "    <tr>\n",
       "      <th>3</th>\n",
       "      <td>2002</td>\n",
       "      <td>APR</td>\n",
       "      <td>36452</td>\n",
       "      <td>59817</td>\n",
       "      <td>846368297</td>\n",
       "      <td>433061150</td>\n",
       "      <td>96269</td>\n",
       "    </tr>\n",
       "    <tr>\n",
       "      <th>4</th>\n",
       "      <td>2002</td>\n",
       "      <td>MAY</td>\n",
       "      <td>37359</td>\n",
       "      <td>60577</td>\n",
       "      <td>855005784</td>\n",
       "      <td>442569410</td>\n",
       "      <td>97936</td>\n",
       "    </tr>\n",
       "  </tbody>\n",
       "</table>\n",
       "</div>"
      ]
     },
     "metadata": {},
     "output_type": "display_data"
    }
   ],
   "execution_count": 6
  },
  {
   "metadata": {},
   "cell_type": "markdown",
   "source": [
    "6b. Ввести нові поля: Сумарний дохід від продажу автомобілів (нових та б/в) у кожний\n",
    "період;"
   ],
   "id": "257adef9ca505538"
  },
  {
   "metadata": {
    "ExecuteTime": {
     "end_time": "2025-02-20T16:59:55.252916Z",
     "start_time": "2025-02-20T16:59:55.242646Z"
    }
   },
   "cell_type": "code",
   "source": [
    "df[\"Total Sales Sum\"] = df[\"Total Sales New\"] + df[\"Total Sales Used\"]\n",
    "print(\"\\nПерші 5 записів після перетворення:\")\n",
    "display(df.head())"
   ],
   "id": "a4df9d6ece7eb86",
   "outputs": [
    {
     "name": "stdout",
     "output_type": "stream",
     "text": [
      "\n",
      "Перші 5 записів після перетворення:\n"
     ]
    },
    {
     "data": {
      "text/plain": [
       "   Year Month    New   Used  Total Sales New  Total Sales Used    Sum  \\\n",
       "0  2002   JAN  31106  49927        755015820         386481929  81033   \n",
       "1  2002   FEB  27520  50982        664454223         361353242  78502   \n",
       "2  2002   MAR  34225  58794        805666244         419385387  93019   \n",
       "3  2002   APR  36452  59817        846368297         433061150  96269   \n",
       "4  2002   MAY  37359  60577        855005784         442569410  97936   \n",
       "\n",
       "   Total Sales Sum  \n",
       "0       1141497749  \n",
       "1       1025807465  \n",
       "2       1225051631  \n",
       "3       1279429447  \n",
       "4       1297575194  "
      ],
      "text/html": [
       "<div>\n",
       "<style scoped>\n",
       "    .dataframe tbody tr th:only-of-type {\n",
       "        vertical-align: middle;\n",
       "    }\n",
       "\n",
       "    .dataframe tbody tr th {\n",
       "        vertical-align: top;\n",
       "    }\n",
       "\n",
       "    .dataframe thead th {\n",
       "        text-align: right;\n",
       "    }\n",
       "</style>\n",
       "<table border=\"1\" class=\"dataframe\">\n",
       "  <thead>\n",
       "    <tr style=\"text-align: right;\">\n",
       "      <th></th>\n",
       "      <th>Year</th>\n",
       "      <th>Month</th>\n",
       "      <th>New</th>\n",
       "      <th>Used</th>\n",
       "      <th>Total Sales New</th>\n",
       "      <th>Total Sales Used</th>\n",
       "      <th>Sum</th>\n",
       "      <th>Total Sales Sum</th>\n",
       "    </tr>\n",
       "  </thead>\n",
       "  <tbody>\n",
       "    <tr>\n",
       "      <th>0</th>\n",
       "      <td>2002</td>\n",
       "      <td>JAN</td>\n",
       "      <td>31106</td>\n",
       "      <td>49927</td>\n",
       "      <td>755015820</td>\n",
       "      <td>386481929</td>\n",
       "      <td>81033</td>\n",
       "      <td>1141497749</td>\n",
       "    </tr>\n",
       "    <tr>\n",
       "      <th>1</th>\n",
       "      <td>2002</td>\n",
       "      <td>FEB</td>\n",
       "      <td>27520</td>\n",
       "      <td>50982</td>\n",
       "      <td>664454223</td>\n",
       "      <td>361353242</td>\n",
       "      <td>78502</td>\n",
       "      <td>1025807465</td>\n",
       "    </tr>\n",
       "    <tr>\n",
       "      <th>2</th>\n",
       "      <td>2002</td>\n",
       "      <td>MAR</td>\n",
       "      <td>34225</td>\n",
       "      <td>58794</td>\n",
       "      <td>805666244</td>\n",
       "      <td>419385387</td>\n",
       "      <td>93019</td>\n",
       "      <td>1225051631</td>\n",
       "    </tr>\n",
       "    <tr>\n",
       "      <th>3</th>\n",
       "      <td>2002</td>\n",
       "      <td>APR</td>\n",
       "      <td>36452</td>\n",
       "      <td>59817</td>\n",
       "      <td>846368297</td>\n",
       "      <td>433061150</td>\n",
       "      <td>96269</td>\n",
       "      <td>1279429447</td>\n",
       "    </tr>\n",
       "    <tr>\n",
       "      <th>4</th>\n",
       "      <td>2002</td>\n",
       "      <td>MAY</td>\n",
       "      <td>37359</td>\n",
       "      <td>60577</td>\n",
       "      <td>855005784</td>\n",
       "      <td>442569410</td>\n",
       "      <td>97936</td>\n",
       "      <td>1297575194</td>\n",
       "    </tr>\n",
       "  </tbody>\n",
       "</table>\n",
       "</div>"
      ]
     },
     "metadata": {},
     "output_type": "display_data"
    }
   ],
   "execution_count": 7
  },
  {
   "metadata": {},
   "cell_type": "markdown",
   "source": "6c. Ввести нові поля: Різницю в обсязі продаж нових та б/в автомобілів у кожен період.",
   "id": "dd645e88cd2d9899"
  },
  {
   "metadata": {
    "ExecuteTime": {
     "end_time": "2025-02-20T16:59:55.344898Z",
     "start_time": "2025-02-20T16:59:55.336387Z"
    }
   },
   "cell_type": "code",
   "source": [
    "df[\"Difference\"] = abs(df[\"New\"] - df[\"Used\"])\n",
    "print(\"\\nПерші 5 записів після перетворення:\")\n",
    "display(df.head())"
   ],
   "id": "ada6712d6b95e89d",
   "outputs": [
    {
     "name": "stdout",
     "output_type": "stream",
     "text": [
      "\n",
      "Перші 5 записів після перетворення:\n"
     ]
    },
    {
     "data": {
      "text/plain": [
       "   Year Month    New   Used  Total Sales New  Total Sales Used    Sum  \\\n",
       "0  2002   JAN  31106  49927        755015820         386481929  81033   \n",
       "1  2002   FEB  27520  50982        664454223         361353242  78502   \n",
       "2  2002   MAR  34225  58794        805666244         419385387  93019   \n",
       "3  2002   APR  36452  59817        846368297         433061150  96269   \n",
       "4  2002   MAY  37359  60577        855005784         442569410  97936   \n",
       "\n",
       "   Total Sales Sum  Difference  \n",
       "0       1141497749       18821  \n",
       "1       1025807465       23462  \n",
       "2       1225051631       24569  \n",
       "3       1279429447       23365  \n",
       "4       1297575194       23218  "
      ],
      "text/html": [
       "<div>\n",
       "<style scoped>\n",
       "    .dataframe tbody tr th:only-of-type {\n",
       "        vertical-align: middle;\n",
       "    }\n",
       "\n",
       "    .dataframe tbody tr th {\n",
       "        vertical-align: top;\n",
       "    }\n",
       "\n",
       "    .dataframe thead th {\n",
       "        text-align: right;\n",
       "    }\n",
       "</style>\n",
       "<table border=\"1\" class=\"dataframe\">\n",
       "  <thead>\n",
       "    <tr style=\"text-align: right;\">\n",
       "      <th></th>\n",
       "      <th>Year</th>\n",
       "      <th>Month</th>\n",
       "      <th>New</th>\n",
       "      <th>Used</th>\n",
       "      <th>Total Sales New</th>\n",
       "      <th>Total Sales Used</th>\n",
       "      <th>Sum</th>\n",
       "      <th>Total Sales Sum</th>\n",
       "      <th>Difference</th>\n",
       "    </tr>\n",
       "  </thead>\n",
       "  <tbody>\n",
       "    <tr>\n",
       "      <th>0</th>\n",
       "      <td>2002</td>\n",
       "      <td>JAN</td>\n",
       "      <td>31106</td>\n",
       "      <td>49927</td>\n",
       "      <td>755015820</td>\n",
       "      <td>386481929</td>\n",
       "      <td>81033</td>\n",
       "      <td>1141497749</td>\n",
       "      <td>18821</td>\n",
       "    </tr>\n",
       "    <tr>\n",
       "      <th>1</th>\n",
       "      <td>2002</td>\n",
       "      <td>FEB</td>\n",
       "      <td>27520</td>\n",
       "      <td>50982</td>\n",
       "      <td>664454223</td>\n",
       "      <td>361353242</td>\n",
       "      <td>78502</td>\n",
       "      <td>1025807465</td>\n",
       "      <td>23462</td>\n",
       "    </tr>\n",
       "    <tr>\n",
       "      <th>2</th>\n",
       "      <td>2002</td>\n",
       "      <td>MAR</td>\n",
       "      <td>34225</td>\n",
       "      <td>58794</td>\n",
       "      <td>805666244</td>\n",
       "      <td>419385387</td>\n",
       "      <td>93019</td>\n",
       "      <td>1225051631</td>\n",
       "      <td>24569</td>\n",
       "    </tr>\n",
       "    <tr>\n",
       "      <th>3</th>\n",
       "      <td>2002</td>\n",
       "      <td>APR</td>\n",
       "      <td>36452</td>\n",
       "      <td>59817</td>\n",
       "      <td>846368297</td>\n",
       "      <td>433061150</td>\n",
       "      <td>96269</td>\n",
       "      <td>1279429447</td>\n",
       "      <td>23365</td>\n",
       "    </tr>\n",
       "    <tr>\n",
       "      <th>4</th>\n",
       "      <td>2002</td>\n",
       "      <td>MAY</td>\n",
       "      <td>37359</td>\n",
       "      <td>60577</td>\n",
       "      <td>855005784</td>\n",
       "      <td>442569410</td>\n",
       "      <td>97936</td>\n",
       "      <td>1297575194</td>\n",
       "      <td>23218</td>\n",
       "    </tr>\n",
       "  </tbody>\n",
       "</table>\n",
       "</div>"
      ]
     },
     "metadata": {},
     "output_type": "display_data"
    }
   ],
   "execution_count": 8
  },
  {
   "metadata": {},
   "cell_type": "markdown",
   "source": "7. Змінити порядок розташування полів таким чином: Рік, Місяць, Сумарний дохід, Дохід від продажу нових автомобілів, Дохід від продажу б/в автомобілів, Сумарний обсяг продаж, Обсяг продаж нових автомобілів, Обсяг продаж б/в автомобілів, Різниця між обсягами продаж нових та б/в автомобілів.",
   "id": "60780cad31a5dd3c"
  },
  {
   "metadata": {
    "ExecuteTime": {
     "end_time": "2025-02-20T16:59:55.502583Z",
     "start_time": "2025-02-20T16:59:55.488417Z"
    }
   },
   "cell_type": "code",
   "source": [
    "new_column_order = [\n",
    "    \"Year\", \"Month\", \"Total Sales Sum\", \"Total Sales New\",\n",
    "    \"Total Sales Used\", \"Sum\", \"New\", \"Used\", \"Difference\"\n",
    "]\n",
    "df = df[new_column_order]\n",
    "display(df.head())"
   ],
   "id": "87efb94fe09a8eb6",
   "outputs": [
    {
     "data": {
      "text/plain": [
       "   Year Month  Total Sales Sum  Total Sales New  Total Sales Used    Sum  \\\n",
       "0  2002   JAN       1141497749        755015820         386481929  81033   \n",
       "1  2002   FEB       1025807465        664454223         361353242  78502   \n",
       "2  2002   MAR       1225051631        805666244         419385387  93019   \n",
       "3  2002   APR       1279429447        846368297         433061150  96269   \n",
       "4  2002   MAY       1297575194        855005784         442569410  97936   \n",
       "\n",
       "     New   Used  Difference  \n",
       "0  31106  49927       18821  \n",
       "1  27520  50982       23462  \n",
       "2  34225  58794       24569  \n",
       "3  36452  59817       23365  \n",
       "4  37359  60577       23218  "
      ],
      "text/html": [
       "<div>\n",
       "<style scoped>\n",
       "    .dataframe tbody tr th:only-of-type {\n",
       "        vertical-align: middle;\n",
       "    }\n",
       "\n",
       "    .dataframe tbody tr th {\n",
       "        vertical-align: top;\n",
       "    }\n",
       "\n",
       "    .dataframe thead th {\n",
       "        text-align: right;\n",
       "    }\n",
       "</style>\n",
       "<table border=\"1\" class=\"dataframe\">\n",
       "  <thead>\n",
       "    <tr style=\"text-align: right;\">\n",
       "      <th></th>\n",
       "      <th>Year</th>\n",
       "      <th>Month</th>\n",
       "      <th>Total Sales Sum</th>\n",
       "      <th>Total Sales New</th>\n",
       "      <th>Total Sales Used</th>\n",
       "      <th>Sum</th>\n",
       "      <th>New</th>\n",
       "      <th>Used</th>\n",
       "      <th>Difference</th>\n",
       "    </tr>\n",
       "  </thead>\n",
       "  <tbody>\n",
       "    <tr>\n",
       "      <th>0</th>\n",
       "      <td>2002</td>\n",
       "      <td>JAN</td>\n",
       "      <td>1141497749</td>\n",
       "      <td>755015820</td>\n",
       "      <td>386481929</td>\n",
       "      <td>81033</td>\n",
       "      <td>31106</td>\n",
       "      <td>49927</td>\n",
       "      <td>18821</td>\n",
       "    </tr>\n",
       "    <tr>\n",
       "      <th>1</th>\n",
       "      <td>2002</td>\n",
       "      <td>FEB</td>\n",
       "      <td>1025807465</td>\n",
       "      <td>664454223</td>\n",
       "      <td>361353242</td>\n",
       "      <td>78502</td>\n",
       "      <td>27520</td>\n",
       "      <td>50982</td>\n",
       "      <td>23462</td>\n",
       "    </tr>\n",
       "    <tr>\n",
       "      <th>2</th>\n",
       "      <td>2002</td>\n",
       "      <td>MAR</td>\n",
       "      <td>1225051631</td>\n",
       "      <td>805666244</td>\n",
       "      <td>419385387</td>\n",
       "      <td>93019</td>\n",
       "      <td>34225</td>\n",
       "      <td>58794</td>\n",
       "      <td>24569</td>\n",
       "    </tr>\n",
       "    <tr>\n",
       "      <th>3</th>\n",
       "      <td>2002</td>\n",
       "      <td>APR</td>\n",
       "      <td>1279429447</td>\n",
       "      <td>846368297</td>\n",
       "      <td>433061150</td>\n",
       "      <td>96269</td>\n",
       "      <td>36452</td>\n",
       "      <td>59817</td>\n",
       "      <td>23365</td>\n",
       "    </tr>\n",
       "    <tr>\n",
       "      <th>4</th>\n",
       "      <td>2002</td>\n",
       "      <td>MAY</td>\n",
       "      <td>1297575194</td>\n",
       "      <td>855005784</td>\n",
       "      <td>442569410</td>\n",
       "      <td>97936</td>\n",
       "      <td>37359</td>\n",
       "      <td>60577</td>\n",
       "      <td>23218</td>\n",
       "    </tr>\n",
       "  </tbody>\n",
       "</table>\n",
       "</div>"
      ]
     },
     "metadata": {},
     "output_type": "display_data"
    }
   ],
   "execution_count": 9
  },
  {
   "metadata": {},
   "cell_type": "markdown",
   "source": "8а. Визначити та вивести: Рік та місяць, у які нових автомобілів було продано менше за б/в;",
   "id": "6ba985f1c5ad3454"
  },
  {
   "metadata": {
    "ExecuteTime": {
     "end_time": "2025-02-20T16:59:55.661699Z",
     "start_time": "2025-02-20T16:59:55.649764Z"
    }
   },
   "cell_type": "code",
   "source": [
    "low_new_sales = df.loc[df[\"New\"] < df[\"Used\"], [\"Year\", \"Month\"]]\n",
    "display(low_new_sales)"
   ],
   "id": "833533415cdfe03d",
   "outputs": [
    {
     "data": {
      "text/plain": [
       "     Year Month\n",
       "0    2002   JAN\n",
       "1    2002   FEB\n",
       "2    2002   MAR\n",
       "3    2002   APR\n",
       "4    2002   MAY\n",
       "..    ...   ...\n",
       "181  2017   FEB\n",
       "182  2017   MAR\n",
       "183  2017   APR\n",
       "184  2017   MAY\n",
       "185  2017   JUN\n",
       "\n",
       "[186 rows x 2 columns]"
      ],
      "text/html": [
       "<div>\n",
       "<style scoped>\n",
       "    .dataframe tbody tr th:only-of-type {\n",
       "        vertical-align: middle;\n",
       "    }\n",
       "\n",
       "    .dataframe tbody tr th {\n",
       "        vertical-align: top;\n",
       "    }\n",
       "\n",
       "    .dataframe thead th {\n",
       "        text-align: right;\n",
       "    }\n",
       "</style>\n",
       "<table border=\"1\" class=\"dataframe\">\n",
       "  <thead>\n",
       "    <tr style=\"text-align: right;\">\n",
       "      <th></th>\n",
       "      <th>Year</th>\n",
       "      <th>Month</th>\n",
       "    </tr>\n",
       "  </thead>\n",
       "  <tbody>\n",
       "    <tr>\n",
       "      <th>0</th>\n",
       "      <td>2002</td>\n",
       "      <td>JAN</td>\n",
       "    </tr>\n",
       "    <tr>\n",
       "      <th>1</th>\n",
       "      <td>2002</td>\n",
       "      <td>FEB</td>\n",
       "    </tr>\n",
       "    <tr>\n",
       "      <th>2</th>\n",
       "      <td>2002</td>\n",
       "      <td>MAR</td>\n",
       "    </tr>\n",
       "    <tr>\n",
       "      <th>3</th>\n",
       "      <td>2002</td>\n",
       "      <td>APR</td>\n",
       "    </tr>\n",
       "    <tr>\n",
       "      <th>4</th>\n",
       "      <td>2002</td>\n",
       "      <td>MAY</td>\n",
       "    </tr>\n",
       "    <tr>\n",
       "      <th>...</th>\n",
       "      <td>...</td>\n",
       "      <td>...</td>\n",
       "    </tr>\n",
       "    <tr>\n",
       "      <th>181</th>\n",
       "      <td>2017</td>\n",
       "      <td>FEB</td>\n",
       "    </tr>\n",
       "    <tr>\n",
       "      <th>182</th>\n",
       "      <td>2017</td>\n",
       "      <td>MAR</td>\n",
       "    </tr>\n",
       "    <tr>\n",
       "      <th>183</th>\n",
       "      <td>2017</td>\n",
       "      <td>APR</td>\n",
       "    </tr>\n",
       "    <tr>\n",
       "      <th>184</th>\n",
       "      <td>2017</td>\n",
       "      <td>MAY</td>\n",
       "    </tr>\n",
       "    <tr>\n",
       "      <th>185</th>\n",
       "      <td>2017</td>\n",
       "      <td>JUN</td>\n",
       "    </tr>\n",
       "  </tbody>\n",
       "</table>\n",
       "<p>186 rows × 2 columns</p>\n",
       "</div>"
      ]
     },
     "metadata": {},
     "output_type": "display_data"
    }
   ],
   "execution_count": 10
  },
  {
   "metadata": {},
   "cell_type": "markdown",
   "source": "8b. Рік та місяць, коли сумарний дохід був мінімальним;",
   "id": "52451548847c9079"
  },
  {
   "metadata": {
    "ExecuteTime": {
     "end_time": "2025-02-20T16:59:55.785942Z",
     "start_time": "2025-02-20T16:59:55.779036Z"
    }
   },
   "cell_type": "code",
   "source": [
    "min_revenue = df[\"Total Sales Sum\"].min()\n",
    "min_revenue_date = df.loc[df[\"Total Sales Sum\"] == min_revenue, [\"Year\", \"Month\", \"Total Sales Sum\"]]\n",
    "display(min_revenue_date)"
   ],
   "id": "9ae37ca48d760a45",
   "outputs": [
    {
     "data": {
      "text/plain": [
       "    Year Month  Total Sales Sum\n",
       "97  2010   FEB        701892920"
      ],
      "text/html": [
       "<div>\n",
       "<style scoped>\n",
       "    .dataframe tbody tr th:only-of-type {\n",
       "        vertical-align: middle;\n",
       "    }\n",
       "\n",
       "    .dataframe tbody tr th {\n",
       "        vertical-align: top;\n",
       "    }\n",
       "\n",
       "    .dataframe thead th {\n",
       "        text-align: right;\n",
       "    }\n",
       "</style>\n",
       "<table border=\"1\" class=\"dataframe\">\n",
       "  <thead>\n",
       "    <tr style=\"text-align: right;\">\n",
       "      <th></th>\n",
       "      <th>Year</th>\n",
       "      <th>Month</th>\n",
       "      <th>Total Sales Sum</th>\n",
       "    </tr>\n",
       "  </thead>\n",
       "  <tbody>\n",
       "    <tr>\n",
       "      <th>97</th>\n",
       "      <td>2010</td>\n",
       "      <td>FEB</td>\n",
       "      <td>701892920</td>\n",
       "    </tr>\n",
       "  </tbody>\n",
       "</table>\n",
       "</div>"
      ]
     },
     "metadata": {},
     "output_type": "display_data"
    }
   ],
   "execution_count": 11
  },
  {
   "metadata": {},
   "cell_type": "markdown",
   "source": "8c. Рік та місяць, коли було продано найбільше б/в авто.",
   "id": "a9f699ada8f5dc1d"
  },
  {
   "metadata": {
    "ExecuteTime": {
     "end_time": "2025-02-20T16:59:55.920735Z",
     "start_time": "2025-02-20T16:59:55.914352Z"
    }
   },
   "cell_type": "code",
   "source": [
    "max_sold_used = df[\"Used\"].max()\n",
    "date = df.loc[df[\"Used\"] == max_sold_used, [\"Year\", \"Month\", \"Used\"]]\n",
    "display(date)"
   ],
   "id": "26b55527d7f3fa5",
   "outputs": [
    {
     "data": {
      "text/plain": [
       "     Year Month   Used\n",
       "170  2016   MAR  73163"
      ],
      "text/html": [
       "<div>\n",
       "<style scoped>\n",
       "    .dataframe tbody tr th:only-of-type {\n",
       "        vertical-align: middle;\n",
       "    }\n",
       "\n",
       "    .dataframe tbody tr th {\n",
       "        vertical-align: top;\n",
       "    }\n",
       "\n",
       "    .dataframe thead th {\n",
       "        text-align: right;\n",
       "    }\n",
       "</style>\n",
       "<table border=\"1\" class=\"dataframe\">\n",
       "  <thead>\n",
       "    <tr style=\"text-align: right;\">\n",
       "      <th></th>\n",
       "      <th>Year</th>\n",
       "      <th>Month</th>\n",
       "      <th>Used</th>\n",
       "    </tr>\n",
       "  </thead>\n",
       "  <tbody>\n",
       "    <tr>\n",
       "      <th>170</th>\n",
       "      <td>2016</td>\n",
       "      <td>MAR</td>\n",
       "      <td>73163</td>\n",
       "    </tr>\n",
       "  </tbody>\n",
       "</table>\n",
       "</div>"
      ]
     },
     "metadata": {},
     "output_type": "display_data"
    }
   ],
   "execution_count": 12
  },
  {
   "metadata": {},
   "cell_type": "markdown",
   "source": "9a. Визначити та вивести: Сумарний обсяг продажу транспортних засобів за кожен рік;",
   "id": "4b8243dd62148309"
  },
  {
   "metadata": {
    "ExecuteTime": {
     "end_time": "2025-02-20T16:59:56.043098Z",
     "start_time": "2025-02-20T16:59:56.029929Z"
    }
   },
   "cell_type": "code",
   "source": [
    "yearly_sales = df.groupby(\"Year\")[[\"Total Sales Sum\"]].sum()\n",
    "display(yearly_sales)"
   ],
   "id": "6577649a3270ce3f",
   "outputs": [
    {
     "data": {
      "text/plain": [
       "      Total Sales Sum\n",
       "Year                 \n",
       "2002      14512764648\n",
       "2003      15789219836\n",
       "2004      16358504971\n",
       "2005      16646537437\n",
       "2006      16277344524\n",
       "2007      15792131352\n",
       "2008      12871569827\n",
       "2009      11196258441\n",
       "2010      12515717825\n",
       "2011      13676806485\n",
       "2012      14867121410\n",
       "2013      16089620063\n",
       "2014      16922377584\n",
       "2015      18422782203\n",
       "2016      19538926921\n",
       "2017       9633380857"
      ],
      "text/html": [
       "<div>\n",
       "<style scoped>\n",
       "    .dataframe tbody tr th:only-of-type {\n",
       "        vertical-align: middle;\n",
       "    }\n",
       "\n",
       "    .dataframe tbody tr th {\n",
       "        vertical-align: top;\n",
       "    }\n",
       "\n",
       "    .dataframe thead th {\n",
       "        text-align: right;\n",
       "    }\n",
       "</style>\n",
       "<table border=\"1\" class=\"dataframe\">\n",
       "  <thead>\n",
       "    <tr style=\"text-align: right;\">\n",
       "      <th></th>\n",
       "      <th>Total Sales Sum</th>\n",
       "    </tr>\n",
       "    <tr>\n",
       "      <th>Year</th>\n",
       "      <th></th>\n",
       "    </tr>\n",
       "  </thead>\n",
       "  <tbody>\n",
       "    <tr>\n",
       "      <th>2002</th>\n",
       "      <td>14512764648</td>\n",
       "    </tr>\n",
       "    <tr>\n",
       "      <th>2003</th>\n",
       "      <td>15789219836</td>\n",
       "    </tr>\n",
       "    <tr>\n",
       "      <th>2004</th>\n",
       "      <td>16358504971</td>\n",
       "    </tr>\n",
       "    <tr>\n",
       "      <th>2005</th>\n",
       "      <td>16646537437</td>\n",
       "    </tr>\n",
       "    <tr>\n",
       "      <th>2006</th>\n",
       "      <td>16277344524</td>\n",
       "    </tr>\n",
       "    <tr>\n",
       "      <th>2007</th>\n",
       "      <td>15792131352</td>\n",
       "    </tr>\n",
       "    <tr>\n",
       "      <th>2008</th>\n",
       "      <td>12871569827</td>\n",
       "    </tr>\n",
       "    <tr>\n",
       "      <th>2009</th>\n",
       "      <td>11196258441</td>\n",
       "    </tr>\n",
       "    <tr>\n",
       "      <th>2010</th>\n",
       "      <td>12515717825</td>\n",
       "    </tr>\n",
       "    <tr>\n",
       "      <th>2011</th>\n",
       "      <td>13676806485</td>\n",
       "    </tr>\n",
       "    <tr>\n",
       "      <th>2012</th>\n",
       "      <td>14867121410</td>\n",
       "    </tr>\n",
       "    <tr>\n",
       "      <th>2013</th>\n",
       "      <td>16089620063</td>\n",
       "    </tr>\n",
       "    <tr>\n",
       "      <th>2014</th>\n",
       "      <td>16922377584</td>\n",
       "    </tr>\n",
       "    <tr>\n",
       "      <th>2015</th>\n",
       "      <td>18422782203</td>\n",
       "    </tr>\n",
       "    <tr>\n",
       "      <th>2016</th>\n",
       "      <td>19538926921</td>\n",
       "    </tr>\n",
       "    <tr>\n",
       "      <th>2017</th>\n",
       "      <td>9633380857</td>\n",
       "    </tr>\n",
       "  </tbody>\n",
       "</table>\n",
       "</div>"
      ]
     },
     "metadata": {},
     "output_type": "display_data"
    }
   ],
   "execution_count": 13
  },
  {
   "metadata": {},
   "cell_type": "markdown",
   "source": "9b. Визначити та вивести: Середній дохід від продажу б/в транспортних засобів в місяці М, де М – це порядковий номер у списку підгрупи за абеткою.",
   "id": "e68b2bf6fc47aaee"
  },
  {
   "metadata": {
    "ExecuteTime": {
     "end_time": "2025-02-20T16:59:56.158723Z",
     "start_time": "2025-02-20T16:59:56.150441Z"
    }
   },
   "cell_type": "code",
   "source": [
    "VARIANT = 17\n",
    "M = VARIANT - 12\n",
    "months = [\"JAN\", \"FEB\", \"MAR\", \"APR\", \"MAY\", \"JUN\", \"JUL\", \"AUG\", \"SEP\", \"OCT\", \"NOV\", \"DEC\"]\n",
    "month = months[M - 1]\n",
    "\n",
    "avg_used_car_revenue = df.groupby(\"Month\")[\"Total Sales Used\"].mean()\n",
    "by_month = avg_used_car_revenue[month]\n",
    "print(\"Середній дохід від продажу б/в транспортних засобів в місяці \" + month + \": \" + str(by_month) + \"$\")\n"
   ],
   "id": "9c92ad4faeb77942",
   "outputs": [
    {
     "name": "stdout",
     "output_type": "stream",
     "text": [
      "Середній дохід від продажу б/в транспортних засобів в місяці MAY: 506301338.5$\n"
     ]
    }
   ],
   "execution_count": 14
  },
  {
   "metadata": {},
   "cell_type": "markdown",
   "source": "10. Побудувати стовпчикову діаграму обсягу продаж нових авто у році 20YY, де дві останні цифри року визначаються як 17 – порядковий номер у списку підгрупи за абеткою.",
   "id": "a78740c253724885"
  },
  {
   "metadata": {
    "ExecuteTime": {
     "end_time": "2025-02-20T16:59:57.158330Z",
     "start_time": "2025-02-20T16:59:56.263213Z"
    }
   },
   "cell_type": "code",
   "source": [
    "VARIANT = 17\n",
    "YEAR = 2017\n",
    "\n",
    "data = df.loc[df[\"Year\"] == YEAR, [\"Month\", \"New\"]]\n",
    "\n",
    "import matplotlib.pyplot as plt\n",
    "plt.figure(figsize=(10, 6))\n",
    "data.plot(kind=\"bar\", x=\"Month\", y=\"New\", color=\"skyblue\")\n",
    "plt.title(f\"Обсяг продажу нових авто у році {YEAR}\")\n",
    "plt.xlabel(\"Місяць\")\n",
    "plt.ylabel(\"Обсяг продажу (одиниці)\")\n",
    "plt.xticks(rotation=45)\n",
    "plt.tight_layout()\n",
    "plt.show()"
   ],
   "id": "ff263961a16f86ad",
   "outputs": [
    {
     "data": {
      "text/plain": [
       "<Figure size 1000x600 with 0 Axes>"
      ]
     },
     "metadata": {},
     "output_type": "display_data"
    },
    {
     "data": {
      "text/plain": [
       "<Figure size 640x480 with 1 Axes>"
      ],
      "image/png": "[encoded data removed]"
     },
     "metadata": {},
     "output_type": "display_data"
    }
   ],
   "execution_count": 15
  },
  {
   "metadata": {},
   "cell_type": "markdown",
   "source": "11. Побудувати кругову діаграму сумарного обсягу продаж за кожен рік.",
   "id": "6bee486a2447b4c2"
  },
  {
   "metadata": {
    "ExecuteTime": {
     "end_time": "2025-02-20T16:59:57.302283Z",
     "start_time": "2025-02-20T16:59:57.178955Z"
    }
   },
   "cell_type": "code",
   "source": [
    "yearly_sales = df.groupby(\"Year\")[[\"Sum\"]].sum()\n",
    "\n",
    "def func(pct, allvals):\n",
    "    absolute = int(pct/100.*sum(allvals))\n",
    "    return f\"{absolute} ({pct:.1f}%)\"\n",
    "\n",
    "plt.figure(figsize=(8, 8))\n",
    "plt.pie(yearly_sales[\"Sum\"], labels=yearly_sales.index, autopct=lambda pct: func(pct, yearly_sales[\"Sum\"]), colors=plt.cm.Paired.colors)\n",
    "plt.title(\"Сумарний обсяг продажу за кожен рік\")\n",
    "plt.tight_layout()\n",
    "plt.show()"
   ],
   "id": "f2bc7499a0af6088",
   "outputs": [
    {
     "data": {
      "text/plain": [
       "<Figure size 800x800 with 1 Axes>"
      ],
      "image/png": "[encoded data removed]"
     },
     "metadata": {},
     "output_type": "display_data"
    }
   ],
   "execution_count": 16
  },
  {
   "metadata": {},
   "cell_type": "markdown",
   "source": [
    "12. Побудувати на одному графіку: <br>\n",
    "a. Сумарний дохід від продажу нових авто; <br>\n",
    "b. Сумарний дохід від продажу старих авто."
   ],
   "id": "97c54f5e0fa235fa"
  },
  {
   "metadata": {
    "ExecuteTime": {
     "end_time": "2025-02-20T16:59:57.550441Z",
     "start_time": "2025-02-20T16:59:57.314825Z"
    }
   },
   "cell_type": "code",
   "source": [
    "import matplotlib.pyplot as plt\n",
    "\n",
    "yearly_sales = df.groupby(\"Year\")[[\"Total Sales New\", \"Total Sales Used\"]].sum()\n",
    "display(yearly_sales)\n",
    "\n",
    "plt.figure(figsize=(10, 6))\n",
    "plt.plot(yearly_sales.index, yearly_sales[\"Total Sales New\"], label=\"Сумарний дохід від нових авто\", color=\"blue\", marker='o')\n",
    "plt.plot(yearly_sales.index, yearly_sales[\"Total Sales Used\"], label=\"Сумарний дохід від старих авто\", color=\"green\", marker='o')\n",
    "\n",
    "plt.title(\"Сумарний дохід від продажу нових та старих авто\")\n",
    "plt.xlabel(\"Рік\")\n",
    "plt.ylabel(\"Сумарний дохід, $\")\n",
    "plt.legend()\n",
    "plt.grid(True)\n",
    "plt.tight_layout()\n",
    "\n",
    "plt.show()"
   ],
   "id": "b8ad35f9ee1f27d5",
   "outputs": [
    {
     "data": {
      "text/plain": [
       "      Total Sales New  Total Sales Used\n",
       "Year                                   \n",
       "2002       9572554876        4940209772\n",
       "2003      10623148339        5166071497\n",
       "2004      10972956024        5385548947\n",
       "2005      11006733922        5639803515\n",
       "2006      10411657206        5865687318\n",
       "2007       9997917483        5794213869\n",
       "2008       7975401987        4896167840\n",
       "2009       6686217914        4510040527\n",
       "2010       7460915522        5054802303\n",
       "2011       8331732402        5345074083\n",
       "2012       9284994339        5582127071\n",
       "2013      10113490016        5976130047\n",
       "2014      10577233071        6345144513\n",
       "2015      11333175245        7089606958\n",
       "2016      11359554563        8179372358\n",
       "2017       5527890444        4105490413"
      ],
      "text/html": [
       "<div>\n",
       "<style scoped>\n",
       "    .dataframe tbody tr th:only-of-type {\n",
       "        vertical-align: middle;\n",
       "    }\n",
       "\n",
       "    .dataframe tbody tr th {\n",
       "        vertical-align: top;\n",
       "    }\n",
       "\n",
       "    .dataframe thead th {\n",
       "        text-align: right;\n",
       "    }\n",
       "</style>\n",
       "<table border=\"1\" class=\"dataframe\">\n",
       "  <thead>\n",
       "    <tr style=\"text-align: right;\">\n",
       "      <th></th>\n",
       "      <th>Total Sales New</th>\n",
       "      <th>Total Sales Used</th>\n",
       "    </tr>\n",
       "    <tr>\n",
       "      <th>Year</th>\n",
       "      <th></th>\n",
       "      <th></th>\n",
       "    </tr>\n",
       "  </thead>\n",
       "  <tbody>\n",
       "    <tr>\n",
       "      <th>2002</th>\n",
       "      <td>9572554876</td>\n",
       "      <td>4940209772</td>\n",
       "    </tr>\n",
       "    <tr>\n",
       "      <th>2003</th>\n",
       "      <td>10623148339</td>\n",
       "      <td>5166071497</td>\n",
       "    </tr>\n",
       "    <tr>\n",
       "      <th>2004</th>\n",
       "      <td>10972956024</td>\n",
       "      <td>5385548947</td>\n",
       "    </tr>\n",
       "    <tr>\n",
       "      <th>2005</th>\n",
       "      <td>11006733922</td>\n",
       "      <td>5639803515</td>\n",
       "    </tr>\n",
       "    <tr>\n",
       "      <th>2006</th>\n",
       "      <td>10411657206</td>\n",
       "      <td>5865687318</td>\n",
       "    </tr>\n",
       "    <tr>\n",
       "      <th>2007</th>\n",
       "      <td>9997917483</td>\n",
       "      <td>5794213869</td>\n",
       "    </tr>\n",
       "    <tr>\n",
       "      <th>2008</th>\n",
       "      <td>7975401987</td>\n",
       "      <td>4896167840</td>\n",
       "    </tr>\n",
       "    <tr>\n",
       "      <th>2009</th>\n",
       "      <td>6686217914</td>\n",
       "      <td>4510040527</td>\n",
       "    </tr>\n",
       "    <tr>\n",
       "      <th>2010</th>\n",
       "      <td>7460915522</td>\n",
       "      <td>5054802303</td>\n",
       "    </tr>\n",
       "    <tr>\n",
       "      <th>2011</th>\n",
       "      <td>8331732402</td>\n",
       "      <td>5345074083</td>\n",
       "    </tr>\n",
       "    <tr>\n",
       "      <th>2012</th>\n",
       "      <td>9284994339</td>\n",
       "      <td>5582127071</td>\n",
       "    </tr>\n",
       "    <tr>\n",
       "      <th>2013</th>\n",
       "      <td>10113490016</td>\n",
       "      <td>5976130047</td>\n",
       "    </tr>\n",
       "    <tr>\n",
       "      <th>2014</th>\n",
       "      <td>10577233071</td>\n",
       "      <td>6345144513</td>\n",
       "    </tr>\n",
       "    <tr>\n",
       "      <th>2015</th>\n",
       "      <td>11333175245</td>\n",
       "      <td>7089606958</td>\n",
       "    </tr>\n",
       "    <tr>\n",
       "      <th>2016</th>\n",
       "      <td>11359554563</td>\n",
       "      <td>8179372358</td>\n",
       "    </tr>\n",
       "    <tr>\n",
       "      <th>2017</th>\n",
       "      <td>5527890444</td>\n",
       "      <td>4105490413</td>\n",
       "    </tr>\n",
       "  </tbody>\n",
       "</table>\n",
       "</div>"
      ]
     },
     "metadata": {},
     "output_type": "display_data"
    },
    {
     "data": {
      "text/plain": [
       "<Figure size 1000x600 with 1 Axes>"
      ],
      "image/png": "[encoded data removed]"
     },
     "metadata": {},
     "output_type": "display_data"
    }
   ],
   "execution_count": 17
  }
 ],
 "metadata": {
  "kernelspec": {
   "display_name": "Python 3",
   "language": "python",
   "name": "python3"
  },
  "language_info": {
   "codemirror_mode": {
    "name": "ipython",
    "version": 2
   },
   "file_extension": ".py",
   "mimetype": "text/x-python",
   "name": "python",
   "nbconvert_exporter": "python",
   "pygments_lexer": "ipython2",
   "version": "2.7.6"
  }
 },
 "nbformat": 4,
 "nbformat_minor": 5
}
